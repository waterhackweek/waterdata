{
 "cells": [
  {
   "cell_type": "markdown",
   "metadata": {},
   "source": [
    "# gridded_data_tutorial\n",
    "## Notebook 0: Intro\n",
    "Waterhackweek 2020\n",
    "Steven Pestana (spestana@uw.edu)\n",
    "***"
   ]
  },
  {
   "cell_type": "markdown",
   "metadata": {},
   "source": [
    "### What are gridded datasets?\n",
    "\n",
    "\n",
    "\n",
    "---"
   ]
  },
  {
   "cell_type": "markdown",
   "metadata": {},
   "source": [
    "### Gridded data formats\n",
    "\n",
    "* GeoTIFF\n",
    "* NetCDF\n",
    "\n",
    "---\n",
    "\n",
    "---\n",
    "## Geospatial Raster Data\n",
    "\n",
    "Raster data is stored as a grid of values (hence it is also called \"gridded\" data). These can be visualized as pixels in a 2-dimensional image, where the color or brightness of each pixel represents the data value. \n",
    "\n",
    "Geospatial raster data represents scalar or categorical data distributed across Earth's surface, such as topography or land-use/landcover map. To make a raster \"geospatial\" it needs metadata that relates each pixel to a location on Earth's surface. **Coordinate reference systems** (CRS) specify the datum, projection, and other information to translate the raster pixel coordinates to locations on Earth. More details on coordinate reference systems can be found [here](https://datacarpentry.org/organization-geospatial/03-crs/index.html).\n",
    "\n",
    "*raster example figures for scalar or categorical data*\n",
    "\n",
    "Examples of raster data formats:\n",
    "* geotiff ...\n",
    "* HDF ...\n",
    "* GRIB ...\n",
    "* NetCDF ...\n",
    "\n",
    "File formats such as [NetCDF](https://www.unidata.ucar.edu/software/netcdf/docs/) combine multi-dimensional data sets along with their metadata in a single file. "
   ]
  },
  {
   "cell_type": "markdown",
   "metadata": {},
   "source": [
    "### Python packages for gridded data\n",
    "\n",
    "* rasterio\n",
    "* xarray\n",
    "* rioxarray\n",
    "* cartopy\n",
    "\n",
    "---"
   ]
  },
  {
   "cell_type": "markdown",
   "metadata": {},
   "source": []
  },
  {
   "cell_type": "code",
   "execution_count": null,
   "metadata": {},
   "outputs": [],
   "source": []
  },
  {
   "cell_type": "markdown",
   "metadata": {},
   "source": [
    "---\n",
    "---"
   ]
  }
 ],
 "metadata": {
  "kernelspec": {
   "display_name": "whwwaterdata",
   "language": "python",
   "name": "whwwaterdata"
  },
  "language_info": {
   "codemirror_mode": {
    "name": "ipython",
    "version": 3
   },
   "file_extension": ".py",
   "mimetype": "text/x-python",
   "name": "python",
   "nbconvert_exporter": "python",
   "pygments_lexer": "ipython3",
   "version": "3.6.10"
  }
 },
 "nbformat": 4,
 "nbformat_minor": 4
}
