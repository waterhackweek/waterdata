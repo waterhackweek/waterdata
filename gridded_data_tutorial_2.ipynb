{
 "cells": [
  {
   "cell_type": "markdown",
   "metadata": {},
   "source": [
    "# gridded_data_tutorial\n",
    "## Notebook 2\n",
    "Waterhackweek 2020\n",
    "Steven Pestana (spestana@uw.edu)\n",
    "***"
   ]
  },
  {
   "cell_type": "markdown",
   "metadata": {},
   "source": [
    "### xarray\n",
    "\n",
    "The [xarray](https://xarray.pydata.org/) library allows us to read, manipulate, and create **labeled** multi-dimensional arrays and datasets, such as NetCDF files.\n",
    "\n"
   ]
  },
  {
   "cell_type": "code",
   "execution_count": 1,
   "metadata": {},
   "outputs": [],
   "source": [
    "import xarray as xr"
   ]
  },
  {
   "cell_type": "markdown",
   "metadata": {},
   "source": [
    "---\n",
    "#### DataArrays\n",
    "Similar to the `numpy.ndarray` object, the `xarray.DataArray` is a multi-dimensional array, with the addition of labeled dimensions, coordinates, and other metadata. A DataArray contains the following: \n",
    "* `values` which store the actual data values in a `numpy.ndarray`\n",
    "* `dims` are the names for each dimension of the `values` array\n",
    "* `coords` are arrays of labels for each point\n",
    "* `attrs` is a [dictionary](https://docs.python.org/3/tutorial/datastructures.html#dictionaries) that can contain additional metadata\n",
    "\n",
    "Let's create some fake streamflow data for two locations to see how these different parts work together to form a DataArray. I'm going to use a NumPy function to generate some random numbers that are [normally distributed](https://numpy.org/devdocs/reference/random/generated/numpy.random.normal.html)."
   ]
  },
  {
   "cell_type": "code",
   "execution_count": 2,
   "metadata": {},
   "outputs": [],
   "source": [
    "import numpy as np\n",
    "import pandas as pd"
   ]
  },
  {
   "cell_type": "code",
   "execution_count": 3,
   "metadata": {},
   "outputs": [],
   "source": [
    "# randomly generated annual peak streamflow data for three locations\n",
    "means = [1000, 1400, 900]\n",
    "standard_deviations = [75, 25, 50] \n",
    "samples = (100, 3)\n",
    "peak_flows = np.random.normal(means, standard_deviations, samples)"
   ]
  },
  {
   "cell_type": "markdown",
   "metadata": {},
   "source": [
    "`peak_flows` will be the `values` within the DataArray. It is a two-dimensional array, and we've given it a shape of 100x3. The two dimensions will need names (`dims`) and labels (`coords`):"
   ]
  },
  {
   "cell_type": "code",
   "execution_count": 4,
   "metadata": {},
   "outputs": [],
   "source": [
    "# We can call our two dimensions time, and location corresponding to the dimensions with lengths 100 and 3 respectively\n",
    "dimensions = ['time', 'location']\n",
    "\n",
    "# We can create coordinates for each of these dimensions now, first starting with 100 years\n",
    "times = pd.date_range('1920', periods=100, freq ='1Y')\n",
    "\n",
    "# Now create the 3 location coordinates\n",
    "locations = ['stream_gage_1', 'stream_gage_2', 'stream_gage_3']"
   ]
  },
  {
   "cell_type": "markdown",
   "metadata": {},
   "source": [
    "Finally we can add additional metadata with a dictionary of attributes"
   ]
  },
  {
   "cell_type": "code",
   "execution_count": 5,
   "metadata": {},
   "outputs": [],
   "source": [
    "metadata = {'units': 'cfs'}"
   ]
  },
  {
   "cell_type": "markdown",
   "metadata": {},
   "source": [
    "Now that we have all the individual components of an xarray DataArray, we can create it"
   ]
  },
  {
   "cell_type": "code",
   "execution_count": 6,
   "metadata": {},
   "outputs": [],
   "source": [
    "streamflows = xr.DataArray( peak_flows, coords=[times, locations], dims=dimensions, attrs=metadata)"
   ]
  },
  {
   "cell_type": "code",
   "execution_count": 7,
   "metadata": {},
   "outputs": [
    {
     "name": "stdout",
     "output_type": "stream",
     "text": [
      "<xarray.DataArray (time: 100, location: 3)>\n",
      "array([[1123.19752051, 1414.04594808,  882.44324073],\n",
      "       [1066.23073385, 1385.66419872,  934.26305981],\n",
      "       [1031.09640144, 1377.43468574,  943.81916925],\n",
      "       [1038.67501424, 1423.0442246 ,  929.89624489],\n",
      "       [ 995.68082827, 1381.67795479,  912.94969588],\n",
      "       [ 947.69859625, 1373.65120682,  786.83608843],\n",
      "       [ 961.90041982, 1367.16983394,  930.96421909],\n",
      "       [ 976.72207517, 1407.72711207,  971.61698371],\n",
      "       [1110.13231249, 1428.66897028,  934.79684877],\n",
      "       [ 944.37080057, 1441.71099671,  939.17479451],\n",
      "       [ 951.56698795, 1424.23373227,  847.67218779],\n",
      "       [ 992.57462141, 1401.15288982,  855.20574412],\n",
      "       [ 993.2243375 , 1413.75964515,  897.95681447],\n",
      "       [1040.10475581, 1383.32203644,  982.93808805],\n",
      "       [ 966.39113157, 1390.89611373,  945.52019244],\n",
      "       [1068.77985336, 1373.26651812,  735.70941063],\n",
      "       [ 924.31771482, 1452.71938383,  978.66752503],\n",
      "       [ 987.07045217, 1368.6620468 ,  948.9874804 ],\n",
      "       [1029.97876874, 1388.74315662,  868.02619252],\n",
      "       [ 970.95000166, 1388.92629247,  896.12841356],\n",
      "       [ 876.97981066, 1380.08173615,  875.62395905],\n",
      "       [1054.6167113 , 1384.49804472,  937.3436537 ],\n",
      "       [1044.7218101 , 1417.05079957,  938.16490917],\n",
      "       [ 894.65433501, 1403.57579135,  887.07040057],\n",
      "       [1096.97109294, 1371.59243033,  921.58374739],\n",
      "       [1098.49553805, 1419.41966287,  915.44112567],\n",
      "       [ 998.26294113, 1441.89664549,  957.54469571],\n",
      "       [ 951.95725192, 1401.54375119,  969.15662545],\n",
      "       [1129.13589518, 1423.0159674 ,  907.90339316],\n",
      "       [1172.60510168, 1388.89696565,  902.33684105],\n",
      "       [1011.99950074, 1418.1111617 ,  896.16678609],\n",
      "       [1049.62282524, 1395.26238062,  964.10122728],\n",
      "       [1087.71218113, 1410.5078352 ,  884.54815626],\n",
      "       [1004.33167139, 1429.26815936,  872.19088584],\n",
      "       [ 923.48738442, 1394.55655686,  907.26852427],\n",
      "       [1020.10016261, 1392.99885673,  950.53892992],\n",
      "       [ 935.22848658, 1424.19864116,  933.88239067],\n",
      "       [1032.39897249, 1402.41243892,  940.60565273],\n",
      "       [ 959.85994055, 1427.8867753 ,  934.42122476],\n",
      "       [1076.91727576, 1388.85887985,  848.93452729],\n",
      "       [1026.50385672, 1378.84403786,  898.48859455],\n",
      "       [1048.07592273, 1403.30749718,  851.16512049],\n",
      "       [1023.76936104, 1378.18794846,  930.42067743],\n",
      "       [ 931.26535678, 1368.00613485,  925.81704534],\n",
      "       [1086.82322835, 1420.2331914 ,  919.00742008],\n",
      "       [ 941.94890713, 1466.42914541,  952.77458793],\n",
      "       [1011.01823343, 1393.01000983,  975.21376795],\n",
      "       [ 841.34596403, 1403.92052422,  861.40213144],\n",
      "       [1093.18239605, 1376.76997091,  868.22178765],\n",
      "       [ 901.90414073, 1390.77147047,  916.07902953],\n",
      "       [ 923.31530696, 1396.45837575,  935.9673786 ],\n",
      "       [ 966.73078338, 1368.34469645,  936.19431532],\n",
      "       [1015.38237838, 1479.63096532,  954.21539815],\n",
      "       [ 947.49849332, 1429.11089491,  952.77567075],\n",
      "       [1103.19296777, 1396.68818631,  883.50877939],\n",
      "       [1003.28698194, 1428.81625146,  887.64967026],\n",
      "       [ 814.35703091, 1392.14216483,  989.34567337],\n",
      "       [ 999.95818777, 1356.23471388,  878.88899596],\n",
      "       [1041.96443134, 1394.5074063 ,  907.29967304],\n",
      "       [1040.71579284, 1394.91637054,  839.96342286],\n",
      "       [ 873.14054515, 1394.25423381,  870.76434828],\n",
      "       [ 994.2673484 , 1448.73533403,  902.5628391 ],\n",
      "       [ 947.8528992 , 1386.73657628,  930.91333718],\n",
      "       [1111.68145834, 1370.89849454,  949.40641031],\n",
      "       [ 976.80657892, 1395.74876511,  948.67671743],\n",
      "       [ 989.77870289, 1418.93736152,  933.06247173],\n",
      "       [1007.44647153, 1400.39529936,  759.32631539],\n",
      "       [1010.68375305, 1392.32930454,  927.26881288],\n",
      "       [ 863.09653791, 1442.06230819,  851.5209922 ],\n",
      "       [1097.75718188, 1409.11143234,  872.61728692],\n",
      "       [ 994.36261574, 1369.70540592,  930.03864997],\n",
      "       [ 935.02672739, 1403.65208214,  964.93224428],\n",
      "       [ 928.9830582 , 1432.57248542,  851.09637682],\n",
      "       [ 929.66338807, 1367.89099343,  817.28101093],\n",
      "       [1060.55458916, 1429.11632397,  897.04473635],\n",
      "       [ 934.3455002 , 1375.20055338,  878.52878104],\n",
      "       [1054.54728515, 1440.66790089,  869.23838535],\n",
      "       [ 939.6758628 , 1386.99660692,  931.7726155 ],\n",
      "       [ 951.9748795 , 1396.02732182,  956.2005069 ],\n",
      "       [1032.69438215, 1416.4891994 ,  883.5705775 ],\n",
      "       [ 915.71853036, 1418.58393951,  836.30347978],\n",
      "       [ 885.51816923, 1364.93007867,  877.9343219 ],\n",
      "       [ 998.3524733 , 1387.40464805,  852.87548963],\n",
      "       [ 965.92006881, 1386.64232329,  929.27353238],\n",
      "       [1104.61057905, 1384.54587839,  826.13284253],\n",
      "       [ 984.84096279, 1427.62751444,  970.22757415],\n",
      "       [ 968.78477189, 1375.0782268 ,  905.69981937],\n",
      "       [ 914.89831031, 1407.06123898,  974.90358348],\n",
      "       [ 945.68755022, 1352.12512546,  858.96670169],\n",
      "       [ 992.52304475, 1409.61625233,  896.68989676],\n",
      "       [1052.39736248, 1409.06321766,  829.41725639],\n",
      "       [ 983.98710913, 1414.97950008,  820.42455619],\n",
      "       [ 951.31333746, 1373.25667979,  960.68754753],\n",
      "       [1018.56705671, 1372.16670646,  932.18631711],\n",
      "       [ 995.82598257, 1362.50296164,  936.55414409],\n",
      "       [ 907.40299269, 1383.16825841,  851.80272929],\n",
      "       [ 996.60207578, 1388.36312165,  851.5934858 ],\n",
      "       [ 910.5340459 , 1396.16945232,  953.51847496],\n",
      "       [ 966.55502319, 1396.18990119,  825.14241751],\n",
      "       [1061.79081181, 1405.78701322,  987.82218493]])\n",
      "Coordinates:\n",
      "  * time      (time) datetime64[ns] 1920-12-31 1921-12-31 ... 2019-12-31\n",
      "  * location  (location) <U13 'stream_gage_1' 'stream_gage_2' 'stream_gage_3'\n",
      "Attributes:\n",
      "    units:    cfs\n"
     ]
    }
   ],
   "source": [
    "print(streamflows)"
   ]
  },
  {
   "cell_type": "markdown",
   "metadata": {},
   "source": [
    "---\n",
    "#### Datasets\n",
    "\n",
    "Create another DataArray with annual min/max water temperature...\n",
    "\n",
    "Then combine and create a Dataset"
   ]
  },
  {
   "cell_type": "code",
   "execution_count": null,
   "metadata": {},
   "outputs": [],
   "source": []
  },
  {
   "cell_type": "code",
   "execution_count": null,
   "metadata": {},
   "outputs": [],
   "source": []
  },
  {
   "cell_type": "code",
   "execution_count": null,
   "metadata": {},
   "outputs": [],
   "source": []
  },
  {
   "cell_type": "code",
   "execution_count": null,
   "metadata": {},
   "outputs": [],
   "source": []
  },
  {
   "cell_type": "code",
   "execution_count": null,
   "metadata": {},
   "outputs": [],
   "source": []
  },
  {
   "cell_type": "markdown",
   "metadata": {},
   "source": [
    "Plot the fake data we just made"
   ]
  },
  {
   "cell_type": "code",
   "execution_count": null,
   "metadata": {},
   "outputs": [],
   "source": []
  }
 ],
 "metadata": {
  "kernelspec": {
   "display_name": "whwwaterdata",
   "language": "python",
   "name": "whwwaterdata"
  },
  "language_info": {
   "codemirror_mode": {
    "name": "ipython",
    "version": 3
   },
   "file_extension": ".py",
   "mimetype": "text/x-python",
   "name": "python",
   "nbconvert_exporter": "python",
   "pygments_lexer": "ipython3",
   "version": "3.6.7"
  }
 },
 "nbformat": 4,
 "nbformat_minor": 2
}
