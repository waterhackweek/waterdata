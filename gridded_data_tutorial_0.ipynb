{
 "cells": [
  {
   "cell_type": "markdown",
   "metadata": {},
   "source": [
    "**0: NumPy and the ndarray** | [1: Introduction to xarray](gridded_data_tutorial_1.ipynb)  | [2: Daymet data access](gridded_data_tutorial_2.ipynb) | [3: Investigating SWE at Mt. Rainier with Daymet](gridded_data_tutorial_3.ipynb)"
   ]
  },
  {
   "cell_type": "markdown",
   "metadata": {},
   "source": [
    "# Notebook 0: NumPy and the ndarray\n",
    "Waterhackweek 2020 | \n",
    "Steven Pestana (spestana@uw.edu)\n",
    "\n",
    "**By the end of this notebook you will be able to:**\n",
    "* Create and manipulate ndarrays\n",
    "* Index and slice ndarrays\n",
    "\n",
    "---"
   ]
  },
  {
   "cell_type": "markdown",
   "metadata": {},
   "source": [
    "### NumPy: working with multi-dimensional arrays in python\n",
    "\n",
    "The [NumPy](https://numpy.org/) library is at the core of the \"[scientific python ecosystem](https://www.scipy.org/)\". NumPy provides an `ndarray` data type which can be used to represent multi-dimensional gridded data. It also includes linear algebra functions and other useful math functions. \n",
    "\n",
    "See these resources for more detailed NumPy information and tutorials:\n",
    "* [NumPy: the absolute basics for beginners](https://numpy.org/devdocs/user/absolute_beginners.html)\n",
    "* [NumPy: creating and manipulating numerical data](https://scipy-lectures.org/intro/numpy/index.html)\n",
    "* [Advanced NumPy](https://scipy-lectures.org/advanced/advanced_numpy/index.html)\n",
    "* [NumPy for MATLAB users](https://numpy.org/doc/stable/user/numpy-for-matlab-users.html)\n",
    "\n",
    "---"
   ]
  },
  {
   "cell_type": "markdown",
   "metadata": {},
   "source": [
    "**To get started, import NumPy and give it an alias `np` (this shorthand is commonly used in the python community)**"
   ]
  },
  {
   "cell_type": "code",
   "execution_count": 1,
   "metadata": {},
   "outputs": [],
   "source": [
    "import numpy as np"
   ]
  },
  {
   "cell_type": "markdown",
   "metadata": {},
   "source": [
    "### Creating arrays"
   ]
  },
  {
   "cell_type": "markdown",
   "metadata": {},
   "source": [
    "**Take a quick look at the `np.array()` function that lets us create an array.** The main input that this function needs is an \"array_like\" object. We can create a python list of integer values and pass it to this function to turn that list into an `ndarray`."
   ]
  },
  {
   "cell_type": "code",
   "execution_count": 2,
   "metadata": {},
   "outputs": [
    {
     "name": "stdout",
     "output_type": "stream",
     "text": [
      "Help on built-in function array in module numpy:\n",
      "\n",
      "array(...)\n",
      "    array(object, dtype=None, *, copy=True, order='K', subok=False, ndmin=0)\n",
      "    \n",
      "    Create an array.\n",
      "    \n",
      "    Parameters\n",
      "    ----------\n",
      "    object : array_like\n",
      "        An array, any object exposing the array interface, an object whose\n",
      "        __array__ method returns an array, or any (nested) sequence.\n",
      "    dtype : data-type, optional\n",
      "        The desired data-type for the array.  If not given, then the type will\n",
      "        be determined as the minimum type required to hold the objects in the\n",
      "        sequence.\n",
      "    copy : bool, optional\n",
      "        If true (default), then the object is copied.  Otherwise, a copy will\n",
      "        only be made if __array__ returns a copy, if obj is a nested sequence,\n",
      "        or if a copy is needed to satisfy any of the other requirements\n",
      "        (`dtype`, `order`, etc.).\n",
      "    order : {'K', 'A', 'C', 'F'}, optional\n",
      "        Specify the memory layout of the array. If object is not an array, the\n",
      "        newly created array will be in C order (row major) unless 'F' is\n",
      "        specified, in which case it will be in Fortran order (column major).\n",
      "        If object is an array the following holds.\n",
      "    \n",
      "        ===== ========= ===================================================\n",
      "        order  no copy                     copy=True\n",
      "        ===== ========= ===================================================\n",
      "        'K'   unchanged F & C order preserved, otherwise most similar order\n",
      "        'A'   unchanged F order if input is F and not C, otherwise C order\n",
      "        'C'   C order   C order\n",
      "        'F'   F order   F order\n",
      "        ===== ========= ===================================================\n",
      "    \n",
      "        When ``copy=False`` and a copy is made for other reasons, the result is\n",
      "        the same as if ``copy=True``, with some exceptions for `A`, see the\n",
      "        Notes section. The default order is 'K'.\n",
      "    subok : bool, optional\n",
      "        If True, then sub-classes will be passed-through, otherwise\n",
      "        the returned array will be forced to be a base-class array (default).\n",
      "    ndmin : int, optional\n",
      "        Specifies the minimum number of dimensions that the resulting\n",
      "        array should have.  Ones will be pre-pended to the shape as\n",
      "        needed to meet this requirement.\n",
      "    \n",
      "    Returns\n",
      "    -------\n",
      "    out : ndarray\n",
      "        An array object satisfying the specified requirements.\n",
      "    \n",
      "    See Also\n",
      "    --------\n",
      "    empty_like : Return an empty array with shape and type of input.\n",
      "    ones_like : Return an array of ones with shape and type of input.\n",
      "    zeros_like : Return an array of zeros with shape and type of input.\n",
      "    full_like : Return a new array with shape of input filled with value.\n",
      "    empty : Return a new uninitialized array.\n",
      "    ones : Return a new array setting values to one.\n",
      "    zeros : Return a new array setting values to zero.\n",
      "    full : Return a new array of given shape filled with value.\n",
      "    \n",
      "    \n",
      "    Notes\n",
      "    -----\n",
      "    When order is 'A' and `object` is an array in neither 'C' nor 'F' order,\n",
      "    and a copy is forced by a change in dtype, then the order of the result is\n",
      "    not necessarily 'C' as expected. This is likely a bug.\n",
      "    \n",
      "    Examples\n",
      "    --------\n",
      "    >>> np.array([1, 2, 3])\n",
      "    array([1, 2, 3])\n",
      "    \n",
      "    Upcasting:\n",
      "    \n",
      "    >>> np.array([1, 2, 3.0])\n",
      "    array([ 1.,  2.,  3.])\n",
      "    \n",
      "    More than one dimension:\n",
      "    \n",
      "    >>> np.array([[1, 2], [3, 4]])\n",
      "    array([[1, 2],\n",
      "           [3, 4]])\n",
      "    \n",
      "    Minimum dimensions 2:\n",
      "    \n",
      "    >>> np.array([1, 2, 3], ndmin=2)\n",
      "    array([[1, 2, 3]])\n",
      "    \n",
      "    Type provided:\n",
      "    \n",
      "    >>> np.array([1, 2, 3], dtype=complex)\n",
      "    array([ 1.+0.j,  2.+0.j,  3.+0.j])\n",
      "    \n",
      "    Data-type consisting of more than one element:\n",
      "    \n",
      "    >>> x = np.array([(1,2),(3,4)],dtype=[('a','<i4'),('b','<i4')])\n",
      "    >>> x['a']\n",
      "    array([1, 3])\n",
      "    \n",
      "    Creating an array from sub-classes:\n",
      "    \n",
      "    >>> np.array(np.mat('1 2; 3 4'))\n",
      "    array([[1, 2],\n",
      "           [3, 4]])\n",
      "    \n",
      "    >>> np.array(np.mat('1 2; 3 4'), subok=True)\n",
      "    matrix([[1, 2],\n",
      "            [3, 4]])\n",
      "\n"
     ]
    }
   ],
   "source": [
    "help(np.array)"
   ]
  },
  {
   "cell_type": "markdown",
   "metadata": {},
   "source": [
    "**Create a 1-dimensional array from a list object:**"
   ]
  },
  {
   "cell_type": "code",
   "execution_count": 3,
   "metadata": {},
   "outputs": [
    {
     "data": {
      "text/plain": [
       "list"
      ]
     },
     "execution_count": 3,
     "metadata": {},
     "output_type": "execute_result"
    }
   ],
   "source": [
    "my_list = [0,1,2,3,4,5,6,7,8,9]\n",
    "\n",
    "# check the type of my_list\n",
    "type(my_list)"
   ]
  },
  {
   "cell_type": "code",
   "execution_count": 4,
   "metadata": {},
   "outputs": [],
   "source": [
    "# create an array from this list\n",
    "one_dimensional_array = np.array(my_list) "
   ]
  },
  {
   "cell_type": "code",
   "execution_count": 5,
   "metadata": {},
   "outputs": [
    {
     "name": "stdout",
     "output_type": "stream",
     "text": [
      "[0 1 2 3 4 5 6 7 8 9]\n"
     ]
    }
   ],
   "source": [
    "print(one_dimensional_array)"
   ]
  },
  {
   "cell_type": "markdown",
   "metadata": {},
   "source": [
    "**We can check the data type of this object, and see that it is an `ndarray`**"
   ]
  },
  {
   "cell_type": "code",
   "execution_count": 6,
   "metadata": {},
   "outputs": [
    {
     "data": {
      "text/plain": [
       "numpy.ndarray"
      ]
     },
     "execution_count": 6,
     "metadata": {},
     "output_type": "execute_result"
    }
   ],
   "source": [
    "type(one_dimensional_array)"
   ]
  },
  {
   "cell_type": "markdown",
   "metadata": {},
   "source": [
    "**We can also look at the array's shape, and [data type](https://numpy.org/doc/stable/user/basics.types.html) of its contents.** Because we didn't specify in the `np.array()` function what data type we wanted, it will by default pick a data type for us based on the values in the list object we provided."
   ]
  },
  {
   "cell_type": "code",
   "execution_count": 7,
   "metadata": {},
   "outputs": [
    {
     "data": {
      "text/plain": [
       "(10,)"
      ]
     },
     "execution_count": 7,
     "metadata": {},
     "output_type": "execute_result"
    }
   ],
   "source": [
    "one_dimensional_array.shape"
   ]
  },
  {
   "cell_type": "code",
   "execution_count": 8,
   "metadata": {},
   "outputs": [
    {
     "data": {
      "text/plain": [
       "dtype('int64')"
      ]
     },
     "execution_count": 8,
     "metadata": {},
     "output_type": "execute_result"
    }
   ],
   "source": [
    "one_dimensional_array.dtype"
   ]
  },
  {
   "cell_type": "markdown",
   "metadata": {},
   "source": [
    "**Create a 2-dimensional array (this array has three rows and three columns):**"
   ]
  },
  {
   "cell_type": "code",
   "execution_count": 9,
   "metadata": {},
   "outputs": [
    {
     "name": "stdout",
     "output_type": "stream",
     "text": [
      "[[1.44 2.5  3.72]\n",
      " [1.98 2.12 3.89]\n",
      " [1.04 2.63 3.17]]\n",
      "\n",
      " Our array has a shape of (3, 3)\n"
     ]
    }
   ],
   "source": [
    "two_dimensional_array = np.array([[1.44, 2.50, 3.72],\n",
    "                                  [1.98, 2.12, 3.89],\n",
    "                                  [1.04, 2.63, 3.17]])\n",
    "\n",
    "print( two_dimensional_array )\n",
    "\n",
    "print(\"\\n Our array has a shape of {}\".format( two_dimensional_array.shape ) )"
   ]
  },
  {
   "cell_type": "markdown",
   "metadata": {},
   "source": [
    "**Check the data type of the array's contents.** Note that because we provided numbers with some fractional value, numpy chose a floating-point data type for us. We could have also specified this ourselves by including the argument `dtype=np.float64` when we created the array."
   ]
  },
  {
   "cell_type": "code",
   "execution_count": 10,
   "metadata": {},
   "outputs": [
    {
     "data": {
      "text/plain": [
       "dtype('float64')"
      ]
     },
     "execution_count": 10,
     "metadata": {},
     "output_type": "execute_result"
    }
   ],
   "source": [
    "two_dimensional_array.dtype"
   ]
  },
  {
   "cell_type": "markdown",
   "metadata": {},
   "source": [
    "---\n",
    "**Create an array filled with zeros using `np.zeros()`**"
   ]
  },
  {
   "cell_type": "code",
   "execution_count": 11,
   "metadata": {},
   "outputs": [
    {
     "name": "stdout",
     "output_type": "stream",
     "text": [
      "Array of zeros:\n",
      "[[0. 0. 0. 0. 0. 0. 0. 0. 0. 0.]\n",
      " [0. 0. 0. 0. 0. 0. 0. 0. 0. 0.]\n",
      " [0. 0. 0. 0. 0. 0. 0. 0. 0. 0.]\n",
      " [0. 0. 0. 0. 0. 0. 0. 0. 0. 0.]\n",
      " [0. 0. 0. 0. 0. 0. 0. 0. 0. 0.]]\n"
     ]
    }
   ],
   "source": [
    "# create a 5 by 10 array of just zeros\n",
    "array_of_zeros = np.zeros((5,10))\n",
    "print(\"Array of zeros:\\n{}\".format(array_of_zeros))"
   ]
  },
  {
   "cell_type": "markdown",
   "metadata": {},
   "source": [
    "---\n",
    "**Create an array filled with ones using `np.ones()`**"
   ]
  },
  {
   "cell_type": "code",
   "execution_count": 12,
   "metadata": {},
   "outputs": [
    {
     "name": "stdout",
     "output_type": "stream",
     "text": [
      "Array of ones:\n",
      "[1. 1. 1. 1. 1. 1. 1. 1. 1. 1.]\n"
     ]
    }
   ],
   "source": [
    "# create a 1 dimensional array of just ones\n",
    "array_of_ones = np.ones(10)\n",
    "print(\"Array of ones:\\n{}\".format(array_of_ones))"
   ]
  },
  {
   "cell_type": "markdown",
   "metadata": {},
   "source": [
    "---\n",
    "**Create an array filled with ones, with the same shape as another array, using `np.ones_like()` (also try `np.zeros_like()`)**"
   ]
  },
  {
   "cell_type": "code",
   "execution_count": 13,
   "metadata": {},
   "outputs": [
    {
     "name": "stdout",
     "output_type": "stream",
     "text": [
      "Array of ones like two_dimensional_array:\n",
      "[[1. 1. 1.]\n",
      " [1. 1. 1.]\n",
      " [1. 1. 1.]]\n"
     ]
    }
   ],
   "source": [
    "# create an array of ones with the same shape as our earlier 2D array:\n",
    "array_of_ones_2d = np.ones_like(two_dimensional_array)\n",
    "print(\"Array of ones like two_dimensional_array:\\n{}\".format(array_of_ones_2d))"
   ]
  },
  {
   "cell_type": "markdown",
   "metadata": {},
   "source": [
    "---\n",
    "**Create an empty array with `np.empty()`, then fill it with a specific value we want.**"
   ]
  },
  {
   "cell_type": "code",
   "execution_count": 14,
   "metadata": {},
   "outputs": [
    {
     "name": "stdout",
     "output_type": "stream",
     "text": [
      "My array:\n",
      "[3.14 3.14 3.14 3.14 3.14 3.14 3.14 3.14 3.14 3.14]\n"
     ]
    }
   ],
   "source": [
    "# create an empty array\n",
    "my_array = np.empty(10)\n",
    "# then fill it with some value\n",
    "my_array.fill(3.14)\n",
    "print(\"My array:\\n{}\".format(my_array))"
   ]
  },
  {
   "cell_type": "markdown",
   "metadata": {},
   "source": [
    "---\n",
    "**Use `np.arange()` to get values spaced evenly within an interval.**"
   ]
  },
  {
   "cell_type": "code",
   "execution_count": 15,
   "metadata": {},
   "outputs": [
    {
     "name": "stdout",
     "output_type": "stream",
     "text": [
      "Array with values between 1 and 100, incrementing by 5 with each step:\n",
      "[ 1  6 11 16 21 26 31 36 41 46 51 56 61 66 71 76 81 86 91 96]\n"
     ]
    }
   ],
   "source": [
    "# create an array with values between 1 and 100, incrementing by 5 with each step\n",
    "my_arange_array = np.arange(1, 100, 5)\n",
    "print(\"Array with values between 1 and 100, incrementing by 5 with each step:\\n{}\".format(my_arange_array))"
   ]
  },
  {
   "cell_type": "markdown",
   "metadata": {},
   "source": [
    "---\n",
    "**Use `np.linspace()` and `np.logspace()` to get linear and logarithmic arrays between an interval.**"
   ]
  },
  {
   "cell_type": "code",
   "execution_count": 16,
   "metadata": {},
   "outputs": [
    {
     "name": "stdout",
     "output_type": "stream",
     "text": [
      "Linear array:\n",
      "[   10.  3340.  6670. 10000.]\n",
      "\n",
      "Logarithmic array:\n",
      "[   10.   100.  1000. 10000.]\n"
     ]
    }
   ],
   "source": [
    "# create a linear array with values between 10 and 10000\n",
    "my_linear_array = np.linspace(10, 10000, 4)\n",
    "print(\"Linear array:\\n{}\".format(my_linear_array))\n",
    "\n",
    "# create a logarithmic array with values between 10**1 and 10**4\n",
    "my_log_array = np.logspace(1, 4, 4)\n",
    "print(\"\\nLogarithmic array:\\n{}\".format(my_log_array))"
   ]
  },
  {
   "cell_type": "markdown",
   "metadata": {},
   "source": [
    "---\n",
    "**Finally, create arrays filled with $10^5$ random numbers sampled from different distributions using `np.random` functions.**"
   ]
  },
  {
   "cell_type": "code",
   "execution_count": 17,
   "metadata": {},
   "outputs": [
    {
     "name": "stdout",
     "output_type": "stream",
     "text": [
      "Random samples from a normal distribution with mean=0, variance=1:\n",
      "[-0.00757252 -0.66049993  0.64982572 ...  0.32073466 -0.01704125\n",
      "  1.06092611]\n",
      "\n",
      "Random samples from a normal distribution with mean=20, variance=5:\n",
      "[29.16648342 23.62604337 15.60549875 ... 15.08201433 20.20685545\n",
      " 19.873711  ]\n",
      "\n",
      "Random samples from a uniform distribution between -1 and 5:\n",
      "[ 1.82154101 -0.91150724  3.05211754 ... -0.88233708  1.03586968\n",
      "  4.5336232 ]\n"
     ]
    }
   ],
   "source": [
    "# create an array of 5 random samples from a normal distribution with mean=0, variance=1\n",
    "my_random_array_1 = np.random.randn(10**5)\n",
    "print(\"Random samples from a normal distribution with mean=0, variance=1:\\n{}\".format(my_random_array_1))\n",
    "\n",
    "# create an array of 5 random samples from a normal distribution with mean=20, variance=5\n",
    "my_random_array_2 = np.random.normal(20, 5, 10**5)\n",
    "print(\"\\nRandom samples from a normal distribution with mean=20, variance=5:\\n{}\".format(my_random_array_2))\n",
    "\n",
    "# create an array of 5 random samples from a uniform distribution between -1 and 5\n",
    "my_random_array_3 = np.random.uniform(-1, 5, 10**5)\n",
    "print(\"\\nRandom samples from a uniform distribution between -1 and 5:\\n{}\".format(my_random_array_3))"
   ]
  },
  {
   "cell_type": "markdown",
   "metadata": {},
   "source": [
    "**Import matplotlib and plot these random samples from different distributions:**"
   ]
  },
  {
   "cell_type": "code",
   "execution_count": 18,
   "metadata": {},
   "outputs": [],
   "source": [
    "import matplotlib.pyplot as plt\n",
    "%matplotlib inline"
   ]
  },
  {
   "cell_type": "code",
   "execution_count": 19,
   "metadata": {},
   "outputs": [
    {
     "data": {
      "text/plain": [
       "<matplotlib.legend.Legend at 0x7ff7fc6d17b8>"
      ]
     },
     "execution_count": 19,
     "metadata": {},
     "output_type": "execute_result"
    },
    {
     "data": {
      "image/png": "[encoded data removed]",
      "text/plain": [
       "<Figure size 432x288 with 1 Axes>"
      ]
     },
     "metadata": {
      "needs_background": "light"
     },
     "output_type": "display_data"
    }
   ],
   "source": [
    "plt.hist(my_random_array_1, bins=100, label='Normal distribution with mean=0, variance=1')\n",
    "plt.hist(my_random_array_2, bins=100, label='Normal distribution with mean=20, variance=5')\n",
    "plt.hist(my_random_array_3, bins=100, label='Uniform distribution between -1 and 5');\n",
    "\n",
    "plt.xlabel('Value')\n",
    "plt.ylabel('Number of Random Samples')\n",
    "\n",
    "plt.legend(loc=(0.1,-0.4))"
   ]
  },
  {
   "cell_type": "markdown",
   "metadata": {},
   "source": [
    "---\n",
    "\n",
    "### Index/slicing ndarrays\n",
    "\n",
    "**To select specific elements within an ndarray, you can use slicing, or indexing.**\n",
    "\n",
    "The syntax for specifying a **slice** is `x[i:j:k]` where for an array `x`, `i` specifies the index to start the slice at, `j` the index to end the slice, and `k` the step size to take moving between `i` and `j`. A step size of 1 does not need to be explicitly stated, it is the default when no step size is provided (`x[i:j]`)."
   ]
  },
  {
   "cell_type": "code",
   "execution_count": 20,
   "metadata": {},
   "outputs": [
    {
     "name": "stdout",
     "output_type": "stream",
     "text": [
      "\n",
      " A one dimensional array:\n",
      "[0 1 2 3 4 5 6 7 8 9]\n"
     ]
    }
   ],
   "source": [
    "# Create a one dimensional array to work with\n",
    "one_dimensional_array = np.arange(0,10,1)\n",
    "# Print out our array\n",
    "print(\"\\n A one dimensional array:\\n{}\".format(one_dimensional_array) )"
   ]
  },
  {
   "cell_type": "markdown",
   "metadata": {},
   "source": [
    "**Slicing an array:** Starting at the first element (index=0), slice until the fifth element, with a step size of 2"
   ]
  },
  {
   "cell_type": "code",
   "execution_count": 21,
   "metadata": {},
   "outputs": [
    {
     "data": {
      "text/plain": [
       "array([0, 2, 4])"
      ]
     },
     "execution_count": 21,
     "metadata": {},
     "output_type": "execute_result"
    }
   ],
   "source": [
    "# Starting at the first element (index=0), slice until the fifth element, with a step size of 2\n",
    "one_dimensional_array[0:5:2]"
   ]
  },
  {
   "cell_type": "markdown",
   "metadata": {},
   "source": [
    "**Negative indexes** will count backwards from the last element in an array (where the last element has index of -1)."
   ]
  },
  {
   "cell_type": "code",
   "execution_count": 22,
   "metadata": {},
   "outputs": [
    {
     "data": {
      "text/plain": [
       "8"
      ]
     },
     "execution_count": 22,
     "metadata": {},
     "output_type": "execute_result"
    }
   ],
   "source": [
    "# Select the second-to-last element of this one-dimensional array\n",
    "one_dimensional_array[-2]"
   ]
  },
  {
   "cell_type": "markdown",
   "metadata": {},
   "source": [
    "**We can use these methods to change the values in the array.** To do this, we first specify the index we want to change, then assign a new value with `=`"
   ]
  },
  {
   "cell_type": "code",
   "execution_count": 23,
   "metadata": {},
   "outputs": [
    {
     "name": "stdout",
     "output_type": "stream",
     "text": [
      "\n",
      " Our modified array:\n",
      "[10  1  2  3  4  5  6  7  8  9]\n"
     ]
    }
   ],
   "source": [
    "one_dimensional_array[0] = 10\n",
    "\n",
    "# Print out the array now that we've change one of its values\n",
    "print(\"\\n Our modified array:\\n{}\".format(one_dimensional_array) )"
   ]
  },
  {
   "cell_type": "markdown",
   "metadata": {},
   "source": [
    "**And can perform all sorts of math functions on the entire array or segments of the array.**\n",
    "\n",
    "Note that here we're using a shorthand syntax where `x = x * 2` is equivalent to `x *= 2` (similarly `x = x + 1` is equivalent to `x += 1`)"
   ]
  },
  {
   "cell_type": "code",
   "execution_count": 24,
   "metadata": {},
   "outputs": [],
   "source": [
    "# Multiply the first four values by two, and replace the original values with the new values\n",
    "one_dimensional_array[0:4] *= 2"
   ]
  },
  {
   "cell_type": "code",
   "execution_count": 25,
   "metadata": {},
   "outputs": [
    {
     "data": {
      "text/plain": [
       "array([20,  2,  4,  6,  4,  5,  6,  7,  8,  9])"
      ]
     },
     "execution_count": 25,
     "metadata": {},
     "output_type": "execute_result"
    }
   ],
   "source": [
    "one_dimensional_array"
   ]
  },
  {
   "cell_type": "markdown",
   "metadata": {},
   "source": [
    "**We can also use conditional statements to create arrays of boolean values** (`True`/`False`), and use these boolean arrays to select elements from an array."
   ]
  },
  {
   "cell_type": "code",
   "execution_count": 26,
   "metadata": {},
   "outputs": [
    {
     "name": "stdout",
     "output_type": "stream",
     "text": [
      "[ True  True  True  True  True False  True False  True False]\n"
     ]
    }
   ],
   "source": [
    "# Find even numbers by taking modulo 2\n",
    "even_number_conditional = one_dimensional_array % 2 == 0\n",
    "print(even_number_conditional)"
   ]
  },
  {
   "cell_type": "code",
   "execution_count": 27,
   "metadata": {},
   "outputs": [
    {
     "data": {
      "text/plain": [
       "array([20,  2,  4,  6,  4,  6,  8])"
      ]
     },
     "execution_count": 27,
     "metadata": {},
     "output_type": "execute_result"
    }
   ],
   "source": [
    "# Now use this to select only where our boolean array is True\n",
    "one_dimensional_array[even_number_conditional]"
   ]
  },
  {
   "cell_type": "code",
   "execution_count": 28,
   "metadata": {},
   "outputs": [
    {
     "name": "stdout",
     "output_type": "stream",
     "text": [
      "[False False False False False  True False  True False  True]\n"
     ]
    },
    {
     "data": {
      "text/plain": [
       "array([5, 7, 9])"
      ]
     },
     "execution_count": 28,
     "metadata": {},
     "output_type": "execute_result"
    }
   ],
   "source": [
    "# We can use the \"~\" (bitwise not) operator to invert our boolean array values, and then select only odd numbers\n",
    "print(~even_number_conditional)\n",
    "one_dimensional_array[~even_number_conditional]"
   ]
  },
  {
   "cell_type": "markdown",
   "metadata": {},
   "source": [
    "---\n",
    "### Working with more than one dimension\n",
    "\n",
    "**We can slice through multiple dimensions**, separating the slice for each dimension with a comma like `x[i:j:k,l:m:n]` where `i`, `j`, and `k` slice the first dimension, and `l`, `m`, and `n` slice the second dimension."
   ]
  },
  {
   "cell_type": "code",
   "execution_count": 29,
   "metadata": {},
   "outputs": [
    {
     "name": "stdout",
     "output_type": "stream",
     "text": [
      "\n",
      " A two dimensional array:\n",
      "[[-0.74664529  0.53067262  0.45067967]\n",
      " [-1.01182386  0.02002937 -0.54327277]\n",
      " [-0.1460555   0.25628652  0.04196928]]\n"
     ]
    }
   ],
   "source": [
    "# Create a two dimensional array to work with\n",
    "two_dimensional_array = np.random.normal(0, 1, (3,3))\n",
    "print(\"\\n A two dimensional array:\\n{}\".format(two_dimensional_array) )"
   ]
  },
  {
   "cell_type": "code",
   "execution_count": 30,
   "metadata": {},
   "outputs": [
    {
     "data": {
      "text/plain": [
       "array([[-0.74664529,  0.53067262],\n",
       "       [-1.01182386,  0.02002937]])"
      ]
     },
     "execution_count": 30,
     "metadata": {},
     "output_type": "execute_result"
    }
   ],
   "source": [
    "# Select the first two indices of each dimension from a 2-dimensional array\n",
    "two_dimensional_array[0:2, 0:2]"
   ]
  },
  {
   "cell_type": "markdown",
   "metadata": {},
   "source": [
    "A single index can also be specified to select a single element from the array."
   ]
  },
  {
   "cell_type": "code",
   "execution_count": 31,
   "metadata": {},
   "outputs": [
    {
     "data": {
      "text/plain": [
       "0.020029370780407105"
      ]
     },
     "execution_count": 31,
     "metadata": {},
     "output_type": "execute_result"
    }
   ],
   "source": [
    "# Select the single value from the center of this 3x3 array\n",
    "two_dimensional_array[1,1]"
   ]
  },
  {
   "cell_type": "markdown",
   "metadata": {},
   "source": [
    "---\n",
    "---"
   ]
  }
 ],
 "metadata": {
  "kernelspec": {
   "display_name": "Python [conda env:whw]",
   "language": "python",
   "name": "conda-env-whw-py"
  },
  "language_info": {
   "codemirror_mode": {
    "name": "ipython",
    "version": 3
   },
   "file_extension": ".py",
   "mimetype": "text/x-python",
   "name": "python",
   "nbconvert_exporter": "python",
   "pygments_lexer": "ipython3",
   "version": "3.6.11"
  }
 },
 "nbformat": 4,
 "nbformat_minor": 4
}
